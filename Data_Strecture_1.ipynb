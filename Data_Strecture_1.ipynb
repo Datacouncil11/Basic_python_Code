{
 "cells": [
  {
   "cell_type": "markdown",
   "id": "3463b7c8-0379-4a8b-8fe4-037ab3903389",
   "metadata": {},
   "source": [
    "# List"
   ]
  },
  {
   "cell_type": "raw",
   "id": "588cc90f-f219-4d4e-b37f-57c9075b95da",
   "metadata": {},
   "source": [
    "1. List is written in []\n",
    "2. List is mutable(Changeble)"
   ]
  },
  {
   "cell_type": "code",
   "execution_count": 1,
   "id": "7f3fd295-1ac8-41de-8066-77ab7fae6d10",
   "metadata": {},
   "outputs": [],
   "source": [
    "a = [1,2,3,4]"
   ]
  },
  {
   "cell_type": "code",
   "execution_count": 2,
   "id": "8d9b2d7b-c615-4118-ada3-5464d6f576db",
   "metadata": {},
   "outputs": [
    {
     "data": {
      "text/plain": [
       "[1, 2, 3, 4]"
      ]
     },
     "execution_count": 2,
     "metadata": {},
     "output_type": "execute_result"
    }
   ],
   "source": [
    "a"
   ]
  },
  {
   "cell_type": "code",
   "execution_count": 3,
   "id": "1f0e6b90-ace7-4b6f-bb2e-758949a13ebf",
   "metadata": {},
   "outputs": [
    {
     "data": {
      "text/plain": [
       "list"
      ]
     },
     "execution_count": 3,
     "metadata": {},
     "output_type": "execute_result"
    }
   ],
   "source": [
    "type(a)"
   ]
  },
  {
   "cell_type": "markdown",
   "id": "9f808b7d-cb87-4cb2-9c57-8e8ef9cc91bf",
   "metadata": {},
   "source": [
    "# Index"
   ]
  },
  {
   "cell_type": "code",
   "execution_count": 4,
   "id": "92699d24-e96b-4d02-ac90-55990261cd0b",
   "metadata": {},
   "outputs": [
    {
     "data": {
      "text/plain": [
       "[1, 2, 3, 4]"
      ]
     },
     "execution_count": 4,
     "metadata": {},
     "output_type": "execute_result"
    }
   ],
   "source": [
    "a"
   ]
  },
  {
   "cell_type": "code",
   "execution_count": 5,
   "id": "07e624dc-7e6a-4107-bc4f-ca62a40841ec",
   "metadata": {},
   "outputs": [
    {
     "data": {
      "text/plain": [
       "1"
      ]
     },
     "execution_count": 5,
     "metadata": {},
     "output_type": "execute_result"
    }
   ],
   "source": [
    "a[0]"
   ]
  },
  {
   "cell_type": "code",
   "execution_count": 6,
   "id": "c7bb6055-0349-4c4c-86c8-25b5afeb5f40",
   "metadata": {},
   "outputs": [
    {
     "data": {
      "text/plain": [
       "2"
      ]
     },
     "execution_count": 6,
     "metadata": {},
     "output_type": "execute_result"
    }
   ],
   "source": [
    "a[1]"
   ]
  },
  {
   "cell_type": "code",
   "execution_count": 7,
   "id": "2b044845-0c40-47da-a7ae-28699ed40427",
   "metadata": {},
   "outputs": [
    {
     "data": {
      "text/plain": [
       "4"
      ]
     },
     "execution_count": 7,
     "metadata": {},
     "output_type": "execute_result"
    }
   ],
   "source": [
    "a[3]"
   ]
  },
  {
   "cell_type": "code",
   "execution_count": 8,
   "id": "03ecc8fb-4f2b-48f4-abcb-5c83ee2ef5ba",
   "metadata": {},
   "outputs": [
    {
     "ename": "IndexError",
     "evalue": "list index out of range",
     "output_type": "error",
     "traceback": [
      "\u001b[1;31m---------------------------------------------------------------------------\u001b[0m",
      "\u001b[1;31mIndexError\u001b[0m                                Traceback (most recent call last)",
      "Cell \u001b[1;32mIn[8], line 1\u001b[0m\n\u001b[1;32m----> 1\u001b[0m a[\u001b[38;5;241m4\u001b[39m]\n",
      "\u001b[1;31mIndexError\u001b[0m: list index out of range"
     ]
    }
   ],
   "source": [
    "a[4]"
   ]
  },
  {
   "cell_type": "code",
   "execution_count": 9,
   "id": "b8b7db20-b3e2-45ae-950f-f007733b9a22",
   "metadata": {},
   "outputs": [],
   "source": [
    "l = [1,2,3,4,5,6,7,8,9,10]"
   ]
  },
  {
   "cell_type": "code",
   "execution_count": 10,
   "id": "c2548231-72b0-40db-b3e6-750c5945666e",
   "metadata": {},
   "outputs": [
    {
     "data": {
      "text/plain": [
       "[1, 2, 3, 4, 5, 6, 7, 8, 9, 10]"
      ]
     },
     "execution_count": 10,
     "metadata": {},
     "output_type": "execute_result"
    }
   ],
   "source": [
    "l"
   ]
  },
  {
   "cell_type": "code",
   "execution_count": 11,
   "id": "9b3c6935-91c9-4533-afe9-05e75eeb6cba",
   "metadata": {},
   "outputs": [
    {
     "data": {
      "text/plain": [
       "1"
      ]
     },
     "execution_count": 11,
     "metadata": {},
     "output_type": "execute_result"
    }
   ],
   "source": [
    "l[0]"
   ]
  },
  {
   "cell_type": "code",
   "execution_count": 12,
   "id": "25c4af73-c771-42b4-bd29-23e2c2af59c6",
   "metadata": {},
   "outputs": [
    {
     "data": {
      "text/plain": [
       "8"
      ]
     },
     "execution_count": 12,
     "metadata": {},
     "output_type": "execute_result"
    }
   ],
   "source": [
    "l[7]"
   ]
  },
  {
   "cell_type": "code",
   "execution_count": 13,
   "id": "b338423f-64ad-4df0-a5e5-d5fccb5851b3",
   "metadata": {},
   "outputs": [
    {
     "data": {
      "text/plain": [
       "[1, 2, 3]"
      ]
     },
     "execution_count": 13,
     "metadata": {},
     "output_type": "execute_result"
    }
   ],
   "source": [
    "l[0:3] # Start point : End point"
   ]
  },
  {
   "cell_type": "code",
   "execution_count": 14,
   "id": "2a44db6e-aef4-49ce-be38-612485a67982",
   "metadata": {},
   "outputs": [],
   "source": [
    "names = ['Om','Ganesh','Ramesh','Suresh','Ajay']"
   ]
  },
  {
   "cell_type": "code",
   "execution_count": 15,
   "id": "0b236303-4850-440d-a6b8-88f3a0e1dc3a",
   "metadata": {},
   "outputs": [
    {
     "data": {
      "text/plain": [
       "['Om', 'Ganesh', 'Ramesh', 'Suresh', 'Ajay']"
      ]
     },
     "execution_count": 15,
     "metadata": {},
     "output_type": "execute_result"
    }
   ],
   "source": [
    "names"
   ]
  },
  {
   "cell_type": "code",
   "execution_count": 16,
   "id": "0738b6b9-de82-455c-b7a2-e18c770713c1",
   "metadata": {},
   "outputs": [
    {
     "data": {
      "text/plain": [
       "['Om', 'Ganesh', 'Ramesh']"
      ]
     },
     "execution_count": 16,
     "metadata": {},
     "output_type": "execute_result"
    }
   ],
   "source": [
    "names[0:3]"
   ]
  },
  {
   "cell_type": "code",
   "execution_count": 18,
   "id": "d93c9edc-2e58-4f45-a4f5-0a8c908e0a9a",
   "metadata": {},
   "outputs": [
    {
     "data": {
      "text/plain": [
       "['Ramesh', 'Suresh', 'Ajay']"
      ]
     },
     "execution_count": 18,
     "metadata": {},
     "output_type": "execute_result"
    }
   ],
   "source": [
    "names[2:5]"
   ]
  },
  {
   "cell_type": "code",
   "execution_count": 19,
   "id": "72f5103c-2dfb-4062-9d3c-ee59285a7289",
   "metadata": {},
   "outputs": [
    {
     "data": {
      "text/plain": [
       "['Om', 'Ganesh', 'Ramesh', 'Suresh', 'Ajay']"
      ]
     },
     "execution_count": 19,
     "metadata": {},
     "output_type": "execute_result"
    }
   ],
   "source": [
    "names"
   ]
  },
  {
   "cell_type": "code",
   "execution_count": 20,
   "id": "b7a3a77c-aaf5-4f9e-926c-3c5631542f87",
   "metadata": {},
   "outputs": [
    {
     "data": {
      "text/plain": [
       "['Om', 'Ganesh', 'Ramesh', 'Suresh', 'Ajay']"
      ]
     },
     "execution_count": 20,
     "metadata": {},
     "output_type": "execute_result"
    }
   ],
   "source": [
    "names[:] # Start to end all"
   ]
  },
  {
   "cell_type": "code",
   "execution_count": 21,
   "id": "e2f72693-309a-43a9-969f-5f49b76faa65",
   "metadata": {},
   "outputs": [
    {
     "data": {
      "text/plain": [
       "['Ramesh', 'Suresh', 'Ajay']"
      ]
     },
     "execution_count": 21,
     "metadata": {},
     "output_type": "execute_result"
    }
   ],
   "source": [
    "names[2:]"
   ]
  },
  {
   "cell_type": "code",
   "execution_count": 22,
   "id": "fa37ceb7-f344-4fb6-9a9d-73160502962e",
   "metadata": {},
   "outputs": [
    {
     "data": {
      "text/plain": [
       "'Om'"
      ]
     },
     "execution_count": 22,
     "metadata": {},
     "output_type": "execute_result"
    }
   ],
   "source": [
    "names[0]"
   ]
  },
  {
   "cell_type": "code",
   "execution_count": 23,
   "id": "e0e506fc-da97-4f8a-920e-91dcac790eba",
   "metadata": {},
   "outputs": [],
   "source": [
    "names[0] = 'Ram'"
   ]
  },
  {
   "cell_type": "code",
   "execution_count": 24,
   "id": "8ab3ead4-ade9-49bc-b3c7-30da775b5ee4",
   "metadata": {},
   "outputs": [
    {
     "data": {
      "text/plain": [
       "['Ram', 'Ganesh', 'Ramesh', 'Suresh', 'Ajay']"
      ]
     },
     "execution_count": 24,
     "metadata": {},
     "output_type": "execute_result"
    }
   ],
   "source": [
    "names"
   ]
  },
  {
   "cell_type": "code",
   "execution_count": 26,
   "id": "05354527-051f-4078-b6a6-91a35204181d",
   "metadata": {},
   "outputs": [],
   "source": [
    "names[3] = 'XYZ'"
   ]
  },
  {
   "cell_type": "code",
   "execution_count": 27,
   "id": "aebe376f-163f-4bda-bc3e-0fc7cdad7bd6",
   "metadata": {},
   "outputs": [
    {
     "data": {
      "text/plain": [
       "['Ram', 'Ganesh', 'Ramesh', 'XYZ', 'Ajay']"
      ]
     },
     "execution_count": 27,
     "metadata": {},
     "output_type": "execute_result"
    }
   ],
   "source": [
    "names"
   ]
  },
  {
   "cell_type": "code",
   "execution_count": 28,
   "id": "93902588-92d3-4b43-9c7d-0001de519123",
   "metadata": {},
   "outputs": [
    {
     "data": {
      "text/plain": [
       "'Ajay'"
      ]
     },
     "execution_count": 28,
     "metadata": {},
     "output_type": "execute_result"
    }
   ],
   "source": [
    "names[-1]"
   ]
  },
  {
   "cell_type": "code",
   "execution_count": 29,
   "id": "e6cf2591-2a1f-4064-90d0-857d0efad82e",
   "metadata": {},
   "outputs": [
    {
     "data": {
      "text/plain": [
       "[1, 2, 3, 4, 5, 6, 7, 8, 9, 10]"
      ]
     },
     "execution_count": 29,
     "metadata": {},
     "output_type": "execute_result"
    }
   ],
   "source": [
    "l"
   ]
  },
  {
   "cell_type": "code",
   "execution_count": 32,
   "id": "e2858d7d-02ee-4be3-b157-35e1e9479cbe",
   "metadata": {},
   "outputs": [
    {
     "data": {
      "text/plain": [
       "[1, 2, 3, 4, 5, 6, 7, 8, 9, 10]"
      ]
     },
     "execution_count": 32,
     "metadata": {},
     "output_type": "execute_result"
    }
   ],
   "source": [
    "l[0::]"
   ]
  },
  {
   "cell_type": "code",
   "execution_count": 33,
   "id": "3579b293-8246-4c49-991e-841fd7e61591",
   "metadata": {},
   "outputs": [
    {
     "data": {
      "text/plain": [
       "[1, 3, 5, 7, 9]"
      ]
     },
     "execution_count": 33,
     "metadata": {},
     "output_type": "execute_result"
    }
   ],
   "source": [
    "l[0::2]"
   ]
  },
  {
   "cell_type": "code",
   "execution_count": 34,
   "id": "37aea62a-03da-4908-8b07-cdd64d6ca397",
   "metadata": {},
   "outputs": [
    {
     "data": {
      "text/plain": [
       "[1, 3, 5, 7, 9]"
      ]
     },
     "execution_count": 34,
     "metadata": {},
     "output_type": "execute_result"
    }
   ],
   "source": [
    "l[::2]"
   ]
  },
  {
   "cell_type": "code",
   "execution_count": 35,
   "id": "5f53e6fa-38ad-414c-bfec-a8f67e7edce9",
   "metadata": {},
   "outputs": [
    {
     "data": {
      "text/plain": [
       "[1, 4, 7, 10]"
      ]
     },
     "execution_count": 35,
     "metadata": {},
     "output_type": "execute_result"
    }
   ],
   "source": [
    "l[::3]"
   ]
  },
  {
   "cell_type": "code",
   "execution_count": 36,
   "id": "07998028-222d-461c-adb1-a0f70268a498",
   "metadata": {},
   "outputs": [
    {
     "data": {
      "text/plain": [
       "[10]"
      ]
     },
     "execution_count": 36,
     "metadata": {},
     "output_type": "execute_result"
    }
   ],
   "source": [
    "l[-1::1]"
   ]
  },
  {
   "cell_type": "code",
   "execution_count": 37,
   "id": "beff611c-0ba3-4a89-99c7-48dd42b042c8",
   "metadata": {},
   "outputs": [
    {
     "data": {
      "text/plain": [
       "[10, 9, 8, 7, 6, 5, 4, 3, 2, 1]"
      ]
     },
     "execution_count": 37,
     "metadata": {},
     "output_type": "execute_result"
    }
   ],
   "source": [
    "l[-1::-1]"
   ]
  },
  {
   "cell_type": "code",
   "execution_count": 38,
   "id": "5aed393e-4a99-4d21-ac0d-6189b080e238",
   "metadata": {},
   "outputs": [
    {
     "data": {
      "text/plain": [
       "[10, 9, 8, 7, 6, 5, 4, 3, 2, 1]"
      ]
     },
     "execution_count": 38,
     "metadata": {},
     "output_type": "execute_result"
    }
   ],
   "source": [
    "l[::-1]"
   ]
  },
  {
   "cell_type": "code",
   "execution_count": 39,
   "id": "de4ed555-76cb-4a61-8ffa-8771f2eb52c9",
   "metadata": {},
   "outputs": [
    {
     "data": {
      "text/plain": [
       "['Ram', 'Ganesh', 'Ramesh', 'XYZ', 'Ajay']"
      ]
     },
     "execution_count": 39,
     "metadata": {},
     "output_type": "execute_result"
    }
   ],
   "source": [
    "names"
   ]
  },
  {
   "cell_type": "code",
   "execution_count": 40,
   "id": "b8b85910-fca2-439f-abc6-db74d625e8e7",
   "metadata": {},
   "outputs": [
    {
     "data": {
      "text/plain": [
       "['Ajay', 'XYZ', 'Ramesh', 'Ganesh', 'Ram']"
      ]
     },
     "execution_count": 40,
     "metadata": {},
     "output_type": "execute_result"
    }
   ],
   "source": [
    "names[::-1]"
   ]
  },
  {
   "cell_type": "code",
   "execution_count": 43,
   "id": "57c22c0c-4ee5-42da-a788-595d21f29a0d",
   "metadata": {},
   "outputs": [
    {
     "data": {
      "text/plain": [
       "['Ramesh', 'Ganesh']"
      ]
     },
     "execution_count": 43,
     "metadata": {},
     "output_type": "execute_result"
    }
   ],
   "source": [
    "names[2:0:-1]"
   ]
  },
  {
   "cell_type": "code",
   "execution_count": 44,
   "id": "5f8d00f6-efb1-43b3-9b27-986f4097f19c",
   "metadata": {},
   "outputs": [
    {
     "data": {
      "text/plain": [
       "['Ram', 'Ganesh', 'Ramesh', 'XYZ', 'Ajay']"
      ]
     },
     "execution_count": 44,
     "metadata": {},
     "output_type": "execute_result"
    }
   ],
   "source": [
    "names"
   ]
  },
  {
   "cell_type": "code",
   "execution_count": 45,
   "id": "7099fa8f-0ba8-4cf3-91ca-af23c79b8000",
   "metadata": {},
   "outputs": [
    {
     "data": {
      "text/plain": [
       "['Ramesh', 'Ganesh', 'Ram']"
      ]
     },
     "execution_count": 45,
     "metadata": {},
     "output_type": "execute_result"
    }
   ],
   "source": [
    "names[2::-1]"
   ]
  },
  {
   "cell_type": "code",
   "execution_count": 46,
   "id": "e8db4da4-92a6-4024-a190-e6fbfef1b775",
   "metadata": {},
   "outputs": [
    {
     "data": {
      "text/plain": [
       "['Ram', 'Ganesh', 'Ramesh', 'XYZ', 'Ajay']"
      ]
     },
     "execution_count": 46,
     "metadata": {},
     "output_type": "execute_result"
    }
   ],
   "source": [
    "names"
   ]
  },
  {
   "cell_type": "code",
   "execution_count": 47,
   "id": "a6b15f51-8111-481d-b3ef-d0eef1e3133c",
   "metadata": {},
   "outputs": [],
   "source": [
    "names.append(1)"
   ]
  },
  {
   "cell_type": "code",
   "execution_count": 48,
   "id": "3d1f499e-1e4c-4e60-9498-4ec3f74eb371",
   "metadata": {},
   "outputs": [
    {
     "data": {
      "text/plain": [
       "['Ram', 'Ganesh', 'Ramesh', 'XYZ', 'Ajay', 1]"
      ]
     },
     "execution_count": 48,
     "metadata": {},
     "output_type": "execute_result"
    }
   ],
   "source": [
    "names"
   ]
  },
  {
   "cell_type": "code",
   "execution_count": 49,
   "id": "3d9b1627-bace-43a7-aac3-a28e56e4a34b",
   "metadata": {},
   "outputs": [],
   "source": [
    "names.append([100,200])"
   ]
  },
  {
   "cell_type": "code",
   "execution_count": 50,
   "id": "f867420c-435a-4d02-aaad-1007823e983b",
   "metadata": {},
   "outputs": [
    {
     "data": {
      "text/plain": [
       "['Ram', 'Ganesh', 'Ramesh', 'XYZ', 'Ajay', 1, [100, 200]]"
      ]
     },
     "execution_count": 50,
     "metadata": {},
     "output_type": "execute_result"
    }
   ],
   "source": [
    "names"
   ]
  },
  {
   "cell_type": "code",
   "execution_count": 51,
   "id": "11721d98-d942-4f18-bef5-ffe926213161",
   "metadata": {},
   "outputs": [],
   "source": [
    "names.extend([10,20,30])"
   ]
  },
  {
   "cell_type": "code",
   "execution_count": 52,
   "id": "c78d4e0e-a98d-436f-b928-966c98958c2a",
   "metadata": {},
   "outputs": [
    {
     "data": {
      "text/plain": [
       "['Ram', 'Ganesh', 'Ramesh', 'XYZ', 'Ajay', 1, [100, 200], 10, 20, 30]"
      ]
     },
     "execution_count": 52,
     "metadata": {},
     "output_type": "execute_result"
    }
   ],
   "source": [
    "names"
   ]
  },
  {
   "cell_type": "code",
   "execution_count": 53,
   "id": "d2991f42-2bb0-4c4e-816d-f09810d88eca",
   "metadata": {},
   "outputs": [
    {
     "data": {
      "text/plain": [
       "1"
      ]
     },
     "execution_count": 53,
     "metadata": {},
     "output_type": "execute_result"
    }
   ],
   "source": [
    "names.count(1)"
   ]
  },
  {
   "cell_type": "code",
   "execution_count": 54,
   "id": "d370b940-482a-4bbb-8611-0dd1f822e5fc",
   "metadata": {},
   "outputs": [
    {
     "data": {
      "text/plain": [
       "1"
      ]
     },
     "execution_count": 54,
     "metadata": {},
     "output_type": "execute_result"
    }
   ],
   "source": [
    "names.count(10)"
   ]
  },
  {
   "cell_type": "code",
   "execution_count": 55,
   "id": "7728eac4-1622-422d-8d75-c0c265ce9004",
   "metadata": {},
   "outputs": [],
   "source": [
    "names.insert(1,'Insert_name')"
   ]
  },
  {
   "cell_type": "code",
   "execution_count": 56,
   "id": "83b0e2c9-ff3c-478f-867a-33af68de47cc",
   "metadata": {},
   "outputs": [
    {
     "data": {
      "text/plain": [
       "['Ram',\n",
       " 'Insert_name',\n",
       " 'Ganesh',\n",
       " 'Ramesh',\n",
       " 'XYZ',\n",
       " 'Ajay',\n",
       " 1,\n",
       " [100, 200],\n",
       " 10,\n",
       " 20,\n",
       " 30]"
      ]
     },
     "execution_count": 56,
     "metadata": {},
     "output_type": "execute_result"
    }
   ],
   "source": [
    "names"
   ]
  },
  {
   "cell_type": "code",
   "execution_count": 57,
   "id": "7d7ea534-9744-4b48-baff-64a3e34392fa",
   "metadata": {},
   "outputs": [
    {
     "data": {
      "text/plain": [
       "[1, 2, 3, 4, 5, 6, 7, 8, 9, 10]"
      ]
     },
     "execution_count": 57,
     "metadata": {},
     "output_type": "execute_result"
    }
   ],
   "source": [
    "l"
   ]
  },
  {
   "cell_type": "code",
   "execution_count": 58,
   "id": "38079ffb-c8ab-4583-953a-08900db2cf30",
   "metadata": {},
   "outputs": [],
   "source": [
    "l.insert(3,999)"
   ]
  },
  {
   "cell_type": "code",
   "execution_count": 59,
   "id": "39017b9e-002f-484b-8db0-a3bb6175266a",
   "metadata": {},
   "outputs": [
    {
     "data": {
      "text/plain": [
       "[1, 2, 3, 999, 4, 5, 6, 7, 8, 9, 10]"
      ]
     },
     "execution_count": 59,
     "metadata": {},
     "output_type": "execute_result"
    }
   ],
   "source": [
    "l"
   ]
  },
  {
   "cell_type": "code",
   "execution_count": 60,
   "id": "f42ea63e-b514-4193-8c35-f0fd223f0560",
   "metadata": {},
   "outputs": [
    {
     "data": {
      "text/plain": [
       "3"
      ]
     },
     "execution_count": 60,
     "metadata": {},
     "output_type": "execute_result"
    }
   ],
   "source": [
    "l.index(999)"
   ]
  },
  {
   "cell_type": "code",
   "execution_count": 61,
   "id": "865980ad-d98e-4bd5-ad9d-52e30e0f8006",
   "metadata": {},
   "outputs": [],
   "source": [
    "l.remove(8)"
   ]
  },
  {
   "cell_type": "code",
   "execution_count": 62,
   "id": "4c009c2a-c6d7-4b51-b1b0-6508a7a62eef",
   "metadata": {},
   "outputs": [
    {
     "data": {
      "text/plain": [
       "[1, 2, 3, 999, 4, 5, 6, 7, 9, 10]"
      ]
     },
     "execution_count": 62,
     "metadata": {},
     "output_type": "execute_result"
    }
   ],
   "source": [
    "l"
   ]
  },
  {
   "cell_type": "code",
   "execution_count": 63,
   "id": "afc07d8b-8b9b-4912-ba42-f33d4ef82feb",
   "metadata": {},
   "outputs": [
    {
     "data": {
      "text/plain": [
       "10"
      ]
     },
     "execution_count": 63,
     "metadata": {},
     "output_type": "execute_result"
    }
   ],
   "source": [
    "l.pop()"
   ]
  },
  {
   "cell_type": "code",
   "execution_count": 64,
   "id": "882e9a05-b48c-4ddc-ac1d-e669324e1d53",
   "metadata": {},
   "outputs": [
    {
     "data": {
      "text/plain": [
       "[1, 2, 3, 999, 4, 5, 6, 7, 9]"
      ]
     },
     "execution_count": 64,
     "metadata": {},
     "output_type": "execute_result"
    }
   ],
   "source": [
    "l"
   ]
  },
  {
   "cell_type": "code",
   "execution_count": 65,
   "id": "38f93a34-7fb0-4db1-a5c3-be05959de015",
   "metadata": {},
   "outputs": [
    {
     "data": {
      "text/plain": [
       "9"
      ]
     },
     "execution_count": 65,
     "metadata": {},
     "output_type": "execute_result"
    }
   ],
   "source": [
    "l.pop()"
   ]
  },
  {
   "cell_type": "code",
   "execution_count": 66,
   "id": "49f5928e-5ed7-4e1d-8b8b-b06a09c63213",
   "metadata": {},
   "outputs": [
    {
     "data": {
      "text/plain": [
       "[1, 2, 3, 999, 4, 5, 6, 7]"
      ]
     },
     "execution_count": 66,
     "metadata": {},
     "output_type": "execute_result"
    }
   ],
   "source": [
    "l"
   ]
  },
  {
   "cell_type": "code",
   "execution_count": 67,
   "id": "fc3e901f-492e-4a16-b88b-2ba8f4938d7a",
   "metadata": {},
   "outputs": [],
   "source": [
    "l.reverse()"
   ]
  },
  {
   "cell_type": "code",
   "execution_count": 68,
   "id": "7c27b0f0-7afb-43d7-8e27-2301c6ab7a55",
   "metadata": {},
   "outputs": [
    {
     "data": {
      "text/plain": [
       "[7, 6, 5, 4, 999, 3, 2, 1]"
      ]
     },
     "execution_count": 68,
     "metadata": {},
     "output_type": "execute_result"
    }
   ],
   "source": [
    "l"
   ]
  },
  {
   "cell_type": "code",
   "execution_count": 69,
   "id": "45e58923-00d1-4b14-979f-302544ced87e",
   "metadata": {},
   "outputs": [],
   "source": [
    "s = [1,2,3,[100,200,300]]"
   ]
  },
  {
   "cell_type": "code",
   "execution_count": 70,
   "id": "8af9e518-8156-4065-bd1b-9e3b3f3ee718",
   "metadata": {},
   "outputs": [
    {
     "data": {
      "text/plain": [
       "[100, 200, 300]"
      ]
     },
     "execution_count": 70,
     "metadata": {},
     "output_type": "execute_result"
    }
   ],
   "source": [
    "s[3]"
   ]
  },
  {
   "cell_type": "code",
   "execution_count": 71,
   "id": "56977fae-3cf9-4ba5-b966-285da39efe80",
   "metadata": {},
   "outputs": [
    {
     "data": {
      "text/plain": [
       "100"
      ]
     },
     "execution_count": 71,
     "metadata": {},
     "output_type": "execute_result"
    }
   ],
   "source": [
    "s[3][0]"
   ]
  },
  {
   "cell_type": "code",
   "execution_count": 72,
   "id": "bb2c6760-f61e-44e1-8872-25475c54c8b8",
   "metadata": {},
   "outputs": [
    {
     "data": {
      "text/plain": [
       "200"
      ]
     },
     "execution_count": 72,
     "metadata": {},
     "output_type": "execute_result"
    }
   ],
   "source": [
    "s[3][1]"
   ]
  },
  {
   "cell_type": "code",
   "execution_count": null,
   "id": "e3ab8fca-7cf5-49d9-8807-2ef0115c39d5",
   "metadata": {},
   "outputs": [],
   "source": []
  }
 ],
 "metadata": {
  "kernelspec": {
   "display_name": "Python 3 (ipykernel)",
   "language": "python",
   "name": "python3"
  },
  "language_info": {
   "codemirror_mode": {
    "name": "ipython",
    "version": 3
   },
   "file_extension": ".py",
   "mimetype": "text/x-python",
   "name": "python",
   "nbconvert_exporter": "python",
   "pygments_lexer": "ipython3",
   "version": "3.11.7"
  }
 },
 "nbformat": 4,
 "nbformat_minor": 5
}
